{
 "cells": [
  {
   "cell_type": "code",
   "execution_count": 2,
   "id": "94a5cb62",
   "metadata": {},
   "outputs": [],
   "source": [
    "import pandas as pd\n",
    "from sklearn.preprocessing import LabelEncoder\n",
    "import string\n",
    "import re\n",
    "import nltk\n",
    "from nltk.corpus import stopwords\n",
    "from nltk.stem import WordNetLemmatizer\n",
    "from sklearn.feature_extraction.text import TfidfVectorizer\n",
    "from scipy.sparse import hstack\n",
    "from imblearn.over_sampling import SMOTE\n",
    "import joblib\n",
    "\n",
    "df=pd.read_csv('../data/spam.csv',encoding='latin-1')\n",
    "\n",
    "df=df[['v1','v2']]\n",
    "df=df.rename(columns={'v1':'label','v2':'text'})\n",
    "df=df.drop_duplicates()"
   ]
  },
  {
   "cell_type": "code",
   "execution_count": 3,
   "id": "c5bc54cb",
   "metadata": {},
   "outputs": [],
   "source": [
    "df['text_size']=df['text'].apply(len)\n"
   ]
  },
  {
   "cell_type": "code",
   "execution_count": 4,
   "id": "41a18d54",
   "metadata": {},
   "outputs": [],
   "source": [
    "la=LabelEncoder()\n",
    "df['label']=la.fit_transform(df['label'])\n"
   ]
  },
  {
   "cell_type": "code",
   "execution_count": 5,
   "id": "345cb386",
   "metadata": {},
   "outputs": [],
   "source": [
    "def clean_text(text):\n",
    "    text=text.lower()\n",
    "    text=re.sub(r'\\d+',' ',text)\n",
    "    text=re.sub(r'\\W',' ',text)\n",
    "    text=re.sub(r'\\s+',' ',text).strip()\n",
    "    return text\n",
    "df['text']=df['text'].apply(clean_text)"
   ]
  },
  {
   "cell_type": "code",
   "execution_count": 6,
   "id": "532686d3",
   "metadata": {},
   "outputs": [
    {
     "name": "stderr",
     "output_type": "stream",
     "text": [
      "[nltk_data] Downloading package stopwords to\n",
      "[nltk_data]     C:\\Users\\HP\\AppData\\Roaming\\nltk_data...\n",
      "[nltk_data]   Package stopwords is already up-to-date!\n",
      "[nltk_data] Downloading package wordnet to\n",
      "[nltk_data]     C:\\Users\\HP\\AppData\\Roaming\\nltk_data...\n",
      "[nltk_data]   Package wordnet is already up-to-date!\n"
     ]
    }
   ],
   "source": [
    "nltk.download('stopwords')\n",
    "nltk.download('wordnet')\n",
    "stopword=set(stopwords.words('english'))\n",
    "lemmetiser=WordNetLemmatizer()\n",
    "\n",
    "def lemmatise(text):\n",
    "    words=[lemmetiser.lemmatize(i) for i in text.split() if i not in stopword]\n",
    "    return \" \".join(words)\n",
    "df['text']=df['text'].apply(lemmatise)"
   ]
  },
  {
   "cell_type": "code",
   "execution_count": 7,
   "id": "3a17c0b9",
   "metadata": {},
   "outputs": [],
   "source": [
    "vectorizer=TfidfVectorizer()\n",
    "text=vectorizer.fit_transform(df['text'])\n",
    "size=df['text_size'].values.reshape(-1,1)\n",
    "X=hstack([text,size])\n",
    "y=df['label']"
   ]
  },
  {
   "cell_type": "code",
   "execution_count": 8,
   "id": "0de10af2",
   "metadata": {},
   "outputs": [],
   "source": [
    "smote=SMOTE(random_state=2)\n",
    "x_sm,y_sm=smote.fit_resample(X,y)\n"
   ]
  },
  {
   "cell_type": "code",
   "execution_count": 9,
   "id": "22882f49",
   "metadata": {},
   "outputs": [
    {
     "name": "stdout",
     "output_type": "stream",
     "text": [
      "Before SMOTE:\n",
      " label\n",
      "0    4516\n",
      "1     653\n",
      "Name: count, dtype: int64\n",
      "After SMOTE:\n",
      " label\n",
      "0    4516\n",
      "1    4516\n",
      "Name: count, dtype: int64\n"
     ]
    }
   ],
   "source": [
    "print(\"Before SMOTE:\\n\", y.value_counts())\n",
    "print(\"After SMOTE:\\n\", y_sm.value_counts())\n"
   ]
  },
  {
   "cell_type": "code",
   "execution_count": 10,
   "id": "3d9d58ab",
   "metadata": {},
   "outputs": [
    {
     "data": {
      "text/plain": [
       "['../data/vectorizer.pkl']"
      ]
     },
     "execution_count": 10,
     "metadata": {},
     "output_type": "execute_result"
    }
   ],
   "source": [
    "joblib.dump(x_sm,'../data/feature.pkl')\n",
    "joblib.dump(y_sm,'../data/label.pkl')\n",
    "joblib.dump(vectorizer,'../data/vectorizer.pkl')"
   ]
  }
 ],
 "metadata": {
  "kernelspec": {
   "display_name": "jupty",
   "language": "python",
   "name": "python3"
  },
  "language_info": {
   "codemirror_mode": {
    "name": "ipython",
    "version": 3
   },
   "file_extension": ".py",
   "mimetype": "text/x-python",
   "name": "python",
   "nbconvert_exporter": "python",
   "pygments_lexer": "ipython3",
   "version": "3.13.2"
  }
 },
 "nbformat": 4,
 "nbformat_minor": 5
}
