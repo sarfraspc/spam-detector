{
 "cells": [
  {
   "cell_type": "code",
   "execution_count": 30,
   "id": "3d4e00d6",
   "metadata": {},
   "outputs": [
    {
     "name": "stdout",
     "output_type": "stream",
     "text": [
      "0.9861649142224682\n",
      "              precision    recall  f1-score   support\n",
      "\n",
      "           0       0.99      0.99      0.99       925\n",
      "           1       0.99      0.99      0.99       882\n",
      "\n",
      "    accuracy                           0.99      1807\n",
      "   macro avg       0.99      0.99      0.99      1807\n",
      "weighted avg       0.99      0.99      0.99      1807\n",
      "\n"
     ]
    }
   ],
   "source": [
    "import pandas as pd\n",
    "import joblib\n",
    "from sklearn.model_selection import train_test_split\n",
    "from sklearn.linear_model import LogisticRegression\n",
    "from sklearn.metrics import classification_report,accuracy_score\n",
    "\n",
    "X=joblib.load('../data/feature.pkl')\n",
    "y=joblib.load('../data/label.pkl')\n",
    "\n",
    "X_train,X_test,y_train,y_test=train_test_split(X,y,test_size=0.2,random_state=44)\n",
    "\n",
    "model=LogisticRegression()\n",
    "model.fit(X_train,y_train)\n",
    "\n",
    "pred=model.predict(X_test)\n",
    "\n",
    "print(accuracy_score(y_test,pred))\n",
    "print(classification_report(y_test,pred))"
   ]
  },
  {
   "cell_type": "code",
   "execution_count": 31,
   "id": "a7d0530d",
   "metadata": {},
   "outputs": [
    {
     "name": "stdout",
     "output_type": "stream",
     "text": [
      "0.9601549529607084\n",
      "              precision    recall  f1-score   support\n",
      "\n",
      "           0       1.00      0.92      0.96       925\n",
      "           1       0.93      1.00      0.96       882\n",
      "\n",
      "    accuracy                           0.96      1807\n",
      "   macro avg       0.96      0.96      0.96      1807\n",
      "weighted avg       0.96      0.96      0.96      1807\n",
      "\n"
     ]
    }
   ],
   "source": [
    "from sklearn.naive_bayes import MultinomialNB\n",
    "\n",
    "nb=MultinomialNB()\n",
    "nb.fit(X_train,y_train)\n",
    "\n",
    "prd=nb.predict(X_test)\n",
    "\n",
    "print(accuracy_score(y_test,prd))\n",
    "print(classification_report(y_test,prd))"
   ]
  },
  {
   "cell_type": "code",
   "execution_count": 32,
   "id": "aefd8c09",
   "metadata": {},
   "outputs": [
    {
     "name": "stdout",
     "output_type": "stream",
     "text": [
      "train accuracy 0.9880968858131488\n",
      "test accuracy 0.9861649142224682\n"
     ]
    }
   ],
   "source": [
    "train_pred=model.predict(X_train)\n",
    "test_pred=model.predict(X_test)\n",
    "\n",
    "print('train accuracy',accuracy_score(y_train,train_pred))\n",
    "print('test accuracy',accuracy_score(y_test,test_pred))"
   ]
  },
  {
   "cell_type": "code",
   "execution_count": 33,
   "id": "e04b4661",
   "metadata": {},
   "outputs": [
    {
     "name": "stdout",
     "output_type": "stream",
     "text": [
      "best parameter {'C': 100, 'penalty': 'l2', 'solver': 'liblinear'}\n",
      "best score 0.994878892733564\n"
     ]
    }
   ],
   "source": [
    "from sklearn.model_selection import GridSearchCV\n",
    "\n",
    "param_grid={\n",
    "    'C':[0.01,0.1,1,10,100],\n",
    "    'penalty':['l2'],\n",
    "    'solver':['liblinear']\n",
    "}\n",
    "grid=GridSearchCV(LogisticRegression(),param_grid,cv=5,scoring='accuracy')\n",
    "grid.fit(X_train,y_train)\n",
    "\n",
    "print('best parameter',grid.best_params_)\n",
    "print('best score',grid.best_score_)"
   ]
  },
  {
   "cell_type": "code",
   "execution_count": 34,
   "id": "4b3ab1cf",
   "metadata": {},
   "outputs": [
    {
     "name": "stdout",
     "output_type": "stream",
     "text": [
      "0.9983397897066962\n",
      "              precision    recall  f1-score   support\n",
      "\n",
      "           0       1.00      1.00      1.00       925\n",
      "           1       1.00      1.00      1.00       882\n",
      "\n",
      "    accuracy                           1.00      1807\n",
      "   macro avg       1.00      1.00      1.00      1807\n",
      "weighted avg       1.00      1.00      1.00      1807\n",
      "\n"
     ]
    }
   ],
   "source": [
    "lastmodel=LogisticRegression(C=100,penalty='l2',solver='liblinear')\n",
    "lastmodel.fit(X_train,y_train)\n",
    "\n",
    "pred=lastmodel.predict(X_test)\n",
    "\n",
    "print(accuracy_score(y_test,pred))\n",
    "print(classification_report(y_test,pred))"
   ]
  },
  {
   "cell_type": "code",
   "execution_count": 35,
   "id": "5837d50b",
   "metadata": {},
   "outputs": [
    {
     "data": {
      "text/plain": [
       "['../data/finalmodel.pkl']"
      ]
     },
     "execution_count": 35,
     "metadata": {},
     "output_type": "execute_result"
    }
   ],
   "source": [
    "joblib.dump(lastmodel,'../data/finalmodel.pkl')"
   ]
  }
 ],
 "metadata": {
  "kernelspec": {
   "display_name": "jupty",
   "language": "python",
   "name": "python3"
  },
  "language_info": {
   "codemirror_mode": {
    "name": "ipython",
    "version": 3
   },
   "file_extension": ".py",
   "mimetype": "text/x-python",
   "name": "python",
   "nbconvert_exporter": "python",
   "pygments_lexer": "ipython3",
   "version": "3.13.2"
  }
 },
 "nbformat": 4,
 "nbformat_minor": 5
}
